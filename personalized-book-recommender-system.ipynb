{
 "cells": [
  {
   "cell_type": "code",
   "execution_count": 2,
   "id": "5d89e45a",
   "metadata": {
    "execution": {
     "iopub.execute_input": "2022-11-15T15:34:23.218342Z",
     "iopub.status.busy": "2022-11-15T15:34:23.217452Z",
     "iopub.status.idle": "2022-11-15T15:34:24.450365Z",
     "shell.execute_reply": "2022-11-15T15:34:24.449185Z"
    },
    "papermill": {
     "duration": 1.250825,
     "end_time": "2022-11-15T15:34:24.453207",
     "exception": false,
     "start_time": "2022-11-15T15:34:23.202382",
     "status": "completed"
    },
    "tags": []
   },
   "outputs": [],
   "source": [
    "import re\n",
    "import operator\n",
    "import numpy as np\n",
    "import pandas as pd\n",
    "import seaborn as sns\n",
    "import matplotlib.pyplot as plt\n",
    "import pickle\n",
    "\n",
    "from collections import Counter\n",
    "from scipy.sparse import csr_matrix\n",
    "from pandas.api.types import is_numeric_dtype\n",
    "\n",
    "from sklearn.neighbors import NearestNeighbors\n",
    "from sklearn.feature_extraction import DictVectorizer\n",
    "from sklearn.metrics.pairwise import cosine_similarity\n",
    "from sklearn.feature_extraction.text import TfidfVectorizer\n",
    "\n",
    "import warnings\n",
    "warnings.filterwarnings(\"ignore\")"
   ]
  },
  {
   "cell_type": "markdown",
   "id": "10f8d01a",
   "metadata": {
    "papermill": {
     "duration": 0.013561,
     "end_time": "2022-11-15T15:34:24.481507",
     "exception": false,
     "start_time": "2022-11-15T15:34:24.467946",
     "status": "completed"
    },
    "tags": []
   },
   "source": [
    "# **LOADING AND CHECKING THE DATA**"
   ]
  },
  {
   "cell_type": "code",
   "execution_count": 3,
   "id": "e6e457c4",
   "metadata": {
    "execution": {
     "iopub.execute_input": "2022-11-15T15:34:24.511413Z",
     "iopub.status.busy": "2022-11-15T15:34:24.510768Z",
     "iopub.status.idle": "2022-11-15T15:34:28.387725Z",
     "shell.execute_reply": "2022-11-15T15:34:28.386470Z"
    },
    "papermill": {
     "duration": 3.89494,
     "end_time": "2022-11-15T15:34:28.390336",
     "exception": false,
     "start_time": "2022-11-15T15:34:24.495396",
     "status": "completed"
    },
    "tags": []
   },
   "outputs": [
    {
     "name": "stdout",
     "output_type": "stream",
     "text": [
      "BOOKS -  (271360, 8)\n",
      "USERS -  (278858, 3)\n",
      "RATINGS -  (1149780, 3)\n"
     ]
    }
   ],
   "source": [
    "books = pd.read_csv(\"../dataset/Books.csv\")\n",
    "users = pd.read_csv(\"../dataset/Users.csv\")\n",
    "ratings = pd.read_csv(\"../dataset/Ratings.csv\")\n",
    "\n",
    "print(\"BOOKS - \", books.shape)\n",
    "print(\"USERS - \", users.shape)\n",
    "print(\"RATINGS - \", ratings.shape)"
   ]
  },
  {
   "cell_type": "markdown",
   "id": "8c5e53ac",
   "metadata": {
    "papermill": {
     "duration": 0.013694,
     "end_time": "2022-11-15T15:34:28.418139",
     "exception": false,
     "start_time": "2022-11-15T15:34:28.404445",
     "status": "completed"
    },
    "tags": []
   },
   "source": [
    "# **PREPROCESSING** "
   ]
  },
  {
   "cell_type": "code",
   "execution_count": 4,
   "id": "f5146f0a",
   "metadata": {
    "execution": {
     "iopub.execute_input": "2022-11-15T15:34:28.447629Z",
     "iopub.status.busy": "2022-11-15T15:34:28.446900Z",
     "iopub.status.idle": "2022-11-15T15:34:28.523733Z",
     "shell.execute_reply": "2022-11-15T15:34:28.522621Z"
    },
    "papermill": {
     "duration": 0.094279,
     "end_time": "2022-11-15T15:34:28.526096",
     "exception": false,
     "start_time": "2022-11-15T15:34:28.431817",
     "status": "completed"
    },
    "tags": []
   },
   "outputs": [
    {
     "data": {
      "text/html": [
       "<div>\n",
       "<style scoped>\n",
       "    .dataframe tbody tr th:only-of-type {\n",
       "        vertical-align: middle;\n",
       "    }\n",
       "\n",
       "    .dataframe tbody tr th {\n",
       "        vertical-align: top;\n",
       "    }\n",
       "\n",
       "    .dataframe thead th {\n",
       "        text-align: right;\n",
       "    }\n",
       "</style>\n",
       "<table border=\"1\" class=\"dataframe\">\n",
       "  <thead>\n",
       "    <tr style=\"text-align: right;\">\n",
       "      <th></th>\n",
       "      <th>ISBN</th>\n",
       "      <th>Book-Title</th>\n",
       "      <th>Book-Author</th>\n",
       "      <th>Year-Of-Publication</th>\n",
       "      <th>Publisher</th>\n",
       "    </tr>\n",
       "  </thead>\n",
       "  <tbody>\n",
       "    <tr>\n",
       "      <th>0</th>\n",
       "      <td>0195153448</td>\n",
       "      <td>Classical Mythology</td>\n",
       "      <td>Mark P. O. Morford</td>\n",
       "      <td>2002</td>\n",
       "      <td>Oxford University Press</td>\n",
       "    </tr>\n",
       "    <tr>\n",
       "      <th>1</th>\n",
       "      <td>0002005018</td>\n",
       "      <td>Clara Callan</td>\n",
       "      <td>Richard Bruce Wright</td>\n",
       "      <td>2001</td>\n",
       "      <td>HarperFlamingo Canada</td>\n",
       "    </tr>\n",
       "    <tr>\n",
       "      <th>2</th>\n",
       "      <td>0060973129</td>\n",
       "      <td>Decision in Normandy</td>\n",
       "      <td>Carlo D'Este</td>\n",
       "      <td>1991</td>\n",
       "      <td>HarperPerennial</td>\n",
       "    </tr>\n",
       "    <tr>\n",
       "      <th>3</th>\n",
       "      <td>0374157065</td>\n",
       "      <td>Flu: The Story of the Great Influenza Pandemic...</td>\n",
       "      <td>Gina Bari Kolata</td>\n",
       "      <td>1999</td>\n",
       "      <td>Farrar Straus Giroux</td>\n",
       "    </tr>\n",
       "    <tr>\n",
       "      <th>4</th>\n",
       "      <td>0393045218</td>\n",
       "      <td>The Mummies of Urumchi</td>\n",
       "      <td>E. J. W. Barber</td>\n",
       "      <td>1999</td>\n",
       "      <td>W. W. Norton &amp;amp; Company</td>\n",
       "    </tr>\n",
       "  </tbody>\n",
       "</table>\n",
       "</div>"
      ],
      "text/plain": [
       "         ISBN                                         Book-Title  \\\n",
       "0  0195153448                                Classical Mythology   \n",
       "1  0002005018                                       Clara Callan   \n",
       "2  0060973129                               Decision in Normandy   \n",
       "3  0374157065  Flu: The Story of the Great Influenza Pandemic...   \n",
       "4  0393045218                             The Mummies of Urumchi   \n",
       "\n",
       "            Book-Author Year-Of-Publication                   Publisher  \n",
       "0    Mark P. O. Morford                2002     Oxford University Press  \n",
       "1  Richard Bruce Wright                2001       HarperFlamingo Canada  \n",
       "2          Carlo D'Este                1991             HarperPerennial  \n",
       "3      Gina Bari Kolata                1999        Farrar Straus Giroux  \n",
       "4       E. J. W. Barber                1999  W. W. Norton &amp; Company  "
      ]
     },
     "execution_count": 4,
     "metadata": {},
     "output_type": "execute_result"
    }
   ],
   "source": [
    "# dropping the URL columns\n",
    "books.drop(['Image-URL-S', 'Image-URL-M', 'Image-URL-L'], axis=1, inplace=True)\n",
    "books.head()"
   ]
  },
  {
   "cell_type": "code",
   "execution_count": 5,
   "id": "b5ad70ab",
   "metadata": {
    "execution": {
     "iopub.execute_input": "2022-11-15T15:34:28.556388Z",
     "iopub.status.busy": "2022-11-15T15:34:28.555963Z",
     "iopub.status.idle": "2022-11-15T15:34:28.628737Z",
     "shell.execute_reply": "2022-11-15T15:34:28.627571Z"
    },
    "papermill": {
     "duration": 0.090868,
     "end_time": "2022-11-15T15:34:28.631105",
     "exception": false,
     "start_time": "2022-11-15T15:34:28.540237",
     "status": "completed"
    },
    "tags": []
   },
   "outputs": [
    {
     "data": {
      "text/plain": [
       "ISBN                   0\n",
       "Book-Title             0\n",
       "Book-Author            1\n",
       "Year-Of-Publication    0\n",
       "Publisher              2\n",
       "dtype: int64"
      ]
     },
     "execution_count": 5,
     "metadata": {},
     "output_type": "execute_result"
    }
   ],
   "source": [
    "# checking for null values\n",
    "books.isnull().sum()"
   ]
  },
  {
   "cell_type": "code",
   "execution_count": 6,
   "id": "c6c6606d",
   "metadata": {
    "execution": {
     "iopub.execute_input": "2022-11-15T15:34:28.661738Z",
     "iopub.status.busy": "2022-11-15T15:34:28.661309Z",
     "iopub.status.idle": "2022-11-15T15:34:28.689815Z",
     "shell.execute_reply": "2022-11-15T15:34:28.688707Z"
    },
    "papermill": {
     "duration": 0.046668,
     "end_time": "2022-11-15T15:34:28.692252",
     "exception": false,
     "start_time": "2022-11-15T15:34:28.645584",
     "status": "completed"
    },
    "tags": []
   },
   "outputs": [
    {
     "data": {
      "text/html": [
       "<div>\n",
       "<style scoped>\n",
       "    .dataframe tbody tr th:only-of-type {\n",
       "        vertical-align: middle;\n",
       "    }\n",
       "\n",
       "    .dataframe tbody tr th {\n",
       "        vertical-align: top;\n",
       "    }\n",
       "\n",
       "    .dataframe thead th {\n",
       "        text-align: right;\n",
       "    }\n",
       "</style>\n",
       "<table border=\"1\" class=\"dataframe\">\n",
       "  <thead>\n",
       "    <tr style=\"text-align: right;\">\n",
       "      <th></th>\n",
       "      <th>ISBN</th>\n",
       "      <th>Book-Title</th>\n",
       "      <th>Book-Author</th>\n",
       "      <th>Year-Of-Publication</th>\n",
       "      <th>Publisher</th>\n",
       "    </tr>\n",
       "  </thead>\n",
       "  <tbody>\n",
       "    <tr>\n",
       "      <th>187689</th>\n",
       "      <td>9627982032</td>\n",
       "      <td>The Credit Suisse Guide to Managing Your Perso...</td>\n",
       "      <td>NaN</td>\n",
       "      <td>1995</td>\n",
       "      <td>Edinburgh Financial Publishing</td>\n",
       "    </tr>\n",
       "  </tbody>\n",
       "</table>\n",
       "</div>"
      ],
      "text/plain": [
       "              ISBN                                         Book-Title  \\\n",
       "187689  9627982032  The Credit Suisse Guide to Managing Your Perso...   \n",
       "\n",
       "       Book-Author Year-Of-Publication                       Publisher  \n",
       "187689         NaN                1995  Edinburgh Financial Publishing  "
      ]
     },
     "execution_count": 6,
     "metadata": {},
     "output_type": "execute_result"
    }
   ],
   "source": [
    "# we check for missing author names\n",
    "books.loc[books['Book-Author'].isnull(),:]"
   ]
  },
  {
   "cell_type": "code",
   "execution_count": 7,
   "id": "d8df0ed6",
   "metadata": {
    "execution": {
     "iopub.execute_input": "2022-11-15T15:34:28.724636Z",
     "iopub.status.busy": "2022-11-15T15:34:28.723407Z",
     "iopub.status.idle": "2022-11-15T15:34:28.748853Z",
     "shell.execute_reply": "2022-11-15T15:34:28.747628Z"
    },
    "papermill": {
     "duration": 0.044481,
     "end_time": "2022-11-15T15:34:28.751372",
     "exception": false,
     "start_time": "2022-11-15T15:34:28.706891",
     "status": "completed"
    },
    "tags": []
   },
   "outputs": [
    {
     "data": {
      "text/html": [
       "<div>\n",
       "<style scoped>\n",
       "    .dataframe tbody tr th:only-of-type {\n",
       "        vertical-align: middle;\n",
       "    }\n",
       "\n",
       "    .dataframe tbody tr th {\n",
       "        vertical-align: top;\n",
       "    }\n",
       "\n",
       "    .dataframe thead th {\n",
       "        text-align: right;\n",
       "    }\n",
       "</style>\n",
       "<table border=\"1\" class=\"dataframe\">\n",
       "  <thead>\n",
       "    <tr style=\"text-align: right;\">\n",
       "      <th></th>\n",
       "      <th>ISBN</th>\n",
       "      <th>Book-Title</th>\n",
       "      <th>Book-Author</th>\n",
       "      <th>Year-Of-Publication</th>\n",
       "      <th>Publisher</th>\n",
       "    </tr>\n",
       "  </thead>\n",
       "  <tbody>\n",
       "    <tr>\n",
       "      <th>128890</th>\n",
       "      <td>193169656X</td>\n",
       "      <td>Tyrant Moon</td>\n",
       "      <td>Elaine Corvidae</td>\n",
       "      <td>2002</td>\n",
       "      <td>NaN</td>\n",
       "    </tr>\n",
       "    <tr>\n",
       "      <th>129037</th>\n",
       "      <td>1931696993</td>\n",
       "      <td>Finders Keepers</td>\n",
       "      <td>Linnea Sinclair</td>\n",
       "      <td>2001</td>\n",
       "      <td>NaN</td>\n",
       "    </tr>\n",
       "  </tbody>\n",
       "</table>\n",
       "</div>"
      ],
      "text/plain": [
       "              ISBN       Book-Title      Book-Author Year-Of-Publication  \\\n",
       "128890  193169656X      Tyrant Moon  Elaine Corvidae                2002   \n",
       "129037  1931696993  Finders Keepers  Linnea Sinclair                2001   \n",
       "\n",
       "       Publisher  \n",
       "128890       NaN  \n",
       "129037       NaN  "
      ]
     },
     "execution_count": 7,
     "metadata": {},
     "output_type": "execute_result"
    }
   ],
   "source": [
    "# we check for missing publisher names\n",
    "books.loc[books['Publisher'].isnull(),:]"
   ]
  },
  {
   "cell_type": "code",
   "execution_count": 8,
   "id": "b2183d4b",
   "metadata": {
    "execution": {
     "iopub.execute_input": "2022-11-15T15:34:28.782846Z",
     "iopub.status.busy": "2022-11-15T15:34:28.782420Z",
     "iopub.status.idle": "2022-11-15T15:34:28.797000Z",
     "shell.execute_reply": "2022-11-15T15:34:28.796098Z"
    },
    "papermill": {
     "duration": 0.032965,
     "end_time": "2022-11-15T15:34:28.799410",
     "exception": false,
     "start_time": "2022-11-15T15:34:28.766445",
     "status": "completed"
    },
    "tags": []
   },
   "outputs": [],
   "source": [
    "# filling those missing values\n",
    "books.at[187689 ,'Book-Author'] = 'Other'\n",
    "books.at[128890 ,'Publisher'] = 'Other'\n",
    "books.at[129037 ,'Publisher'] = 'Other'"
   ]
  },
  {
   "cell_type": "code",
   "execution_count": 9,
   "id": "3550d4c3",
   "metadata": {
    "execution": {
     "iopub.execute_input": "2022-11-15T15:34:28.830356Z",
     "iopub.status.busy": "2022-11-15T15:34:28.829929Z",
     "iopub.status.idle": "2022-11-15T15:34:28.853406Z",
     "shell.execute_reply": "2022-11-15T15:34:28.852409Z"
    },
    "papermill": {
     "duration": 0.041458,
     "end_time": "2022-11-15T15:34:28.855578",
     "exception": false,
     "start_time": "2022-11-15T15:34:28.814120",
     "status": "completed"
    },
    "tags": []
   },
   "outputs": [
    {
     "data": {
      "text/plain": [
       "array([2002, 2001, 1991, 1999, 2000, 1993, 1996, 1988, 2004, 1998, 1994,\n",
       "       2003, 1997, 1983, 1979, 1995, 1982, 1985, 1992, 1986, 1978, 1980,\n",
       "       1952, 1987, 1990, 1981, 1989, 1984, 0, 1968, 1961, 1958, 1974,\n",
       "       1976, 1971, 1977, 1975, 1965, 1941, 1970, 1962, 1973, 1972, 1960,\n",
       "       1966, 1920, 1956, 1959, 1953, 1951, 1942, 1963, 1964, 1969, 1954,\n",
       "       1950, 1967, 2005, 1957, 1940, 1937, 1955, 1946, 1936, 1930, 2011,\n",
       "       1925, 1948, 1943, 1947, 1945, 1923, 2020, 1939, 1926, 1938, 2030,\n",
       "       1911, 1904, 1949, 1932, 1928, 1929, 1927, 1931, 1914, 2050, 1934,\n",
       "       1910, 1933, 1902, 1924, 1921, 1900, 2038, 2026, 1944, 1917, 1901,\n",
       "       2010, 1908, 1906, 1935, 1806, 2021, '2000', '1995', '1999', '2004',\n",
       "       '2003', '1990', '1994', '1986', '1989', '2002', '1981', '1993',\n",
       "       '1983', '1982', '1976', '1991', '1977', '1998', '1992', '1996',\n",
       "       '0', '1997', '2001', '1974', '1968', '1987', '1984', '1988',\n",
       "       '1963', '1956', '1970', '1985', '1978', '1973', '1980', '1979',\n",
       "       '1975', '1969', '1961', '1965', '1939', '1958', '1950', '1953',\n",
       "       '1966', '1971', '1959', '1972', '1955', '1957', '1945', '1960',\n",
       "       '1967', '1932', '1924', '1964', '2012', '1911', '1927', '1948',\n",
       "       '1962', '2006', '1952', '1940', '1951', '1931', '1954', '2005',\n",
       "       '1930', '1941', '1944', 'DK Publishing Inc', '1943', '1938',\n",
       "       '1900', '1942', '1923', '1920', '1933', 'Gallimard', '1909',\n",
       "       '1946', '2008', '1378', '2030', '1936', '1947', '2011', '2020',\n",
       "       '1919', '1949', '1922', '1897', '2024', '1376', '1926', '2037'],\n",
       "      dtype=object)"
      ]
     },
     "execution_count": 9,
     "metadata": {},
     "output_type": "execute_result"
    }
   ],
   "source": [
    "# checking for column Year-of-publication\n",
    "books['Year-Of-Publication'].unique()"
   ]
  },
  {
   "cell_type": "code",
   "execution_count": 10,
   "id": "89a61d16",
   "metadata": {
    "execution": {
     "iopub.execute_input": "2022-11-15T15:34:28.887221Z",
     "iopub.status.busy": "2022-11-15T15:34:28.886834Z",
     "iopub.status.idle": "2022-11-15T15:34:29.002882Z",
     "shell.execute_reply": "2022-11-15T15:34:29.001636Z"
    },
    "papermill": {
     "duration": 0.13502,
     "end_time": "2022-11-15T15:34:29.005501",
     "exception": false,
     "start_time": "2022-11-15T15:34:28.870481",
     "status": "completed"
    },
    "tags": []
   },
   "outputs": [],
   "source": [
    "# uppercasing all the ISBN alphabets\n",
    "books['ISBN'] = books['ISBN'].str.upper()"
   ]
  },
  {
   "cell_type": "code",
   "execution_count": 11,
   "id": "3fad8746",
   "metadata": {
    "execution": {
     "iopub.execute_input": "2022-11-15T15:34:29.037063Z",
     "iopub.status.busy": "2022-11-15T15:34:29.036614Z",
     "iopub.status.idle": "2022-11-15T15:34:29.441431Z",
     "shell.execute_reply": "2022-11-15T15:34:29.440131Z"
    },
    "papermill": {
     "duration": 0.423959,
     "end_time": "2022-11-15T15:34:29.444499",
     "exception": false,
     "start_time": "2022-11-15T15:34:29.020540",
     "status": "completed"
    },
    "tags": []
   },
   "outputs": [
    {
     "name": "stdout",
     "output_type": "stream",
     "text": [
      "<class 'pandas.core.frame.DataFrame'>\n",
      "RangeIndex: 271166 entries, 0 to 271165\n",
      "Data columns (total 5 columns):\n",
      " #   Column               Non-Null Count   Dtype \n",
      "---  ------               --------------   ----- \n",
      " 0   ISBN                 271166 non-null  object\n",
      " 1   Book-Title           271166 non-null  object\n",
      " 2   Book-Author          271166 non-null  object\n",
      " 3   Year-Of-Publication  271166 non-null  object\n",
      " 4   Publisher            271166 non-null  object\n",
      "dtypes: object(5)\n",
      "memory usage: 10.3+ MB\n"
     ]
    }
   ],
   "source": [
    "# dropping duplicate rows\n",
    "books.drop_duplicates(keep='last', inplace=True) \n",
    "books.reset_index(drop = True, inplace = True)\n",
    "books.info()"
   ]
  },
  {
   "cell_type": "code",
   "execution_count": 12,
   "id": "30e7fbae",
   "metadata": {
    "execution": {
     "iopub.execute_input": "2022-11-15T15:34:29.478894Z",
     "iopub.status.busy": "2022-11-15T15:34:29.477680Z",
     "iopub.status.idle": "2022-11-15T15:34:29.490997Z",
     "shell.execute_reply": "2022-11-15T15:34:29.489518Z"
    },
    "papermill": {
     "duration": 0.032948,
     "end_time": "2022-11-15T15:34:29.493768",
     "exception": false,
     "start_time": "2022-11-15T15:34:29.460820",
     "status": "completed"
    },
    "tags": []
   },
   "outputs": [
    {
     "name": "stdout",
     "output_type": "stream",
     "text": [
      "Columns:  ['User-ID', 'Location', 'Age']\n"
     ]
    },
    {
     "data": {
      "text/html": [
       "<div>\n",
       "<style scoped>\n",
       "    .dataframe tbody tr th:only-of-type {\n",
       "        vertical-align: middle;\n",
       "    }\n",
       "\n",
       "    .dataframe tbody tr th {\n",
       "        vertical-align: top;\n",
       "    }\n",
       "\n",
       "    .dataframe thead th {\n",
       "        text-align: right;\n",
       "    }\n",
       "</style>\n",
       "<table border=\"1\" class=\"dataframe\">\n",
       "  <thead>\n",
       "    <tr style=\"text-align: right;\">\n",
       "      <th></th>\n",
       "      <th>User-ID</th>\n",
       "      <th>Location</th>\n",
       "      <th>Age</th>\n",
       "    </tr>\n",
       "  </thead>\n",
       "  <tbody>\n",
       "    <tr>\n",
       "      <th>0</th>\n",
       "      <td>1</td>\n",
       "      <td>nyc, new york, usa</td>\n",
       "      <td>NaN</td>\n",
       "    </tr>\n",
       "    <tr>\n",
       "      <th>1</th>\n",
       "      <td>2</td>\n",
       "      <td>stockton, california, usa</td>\n",
       "      <td>18.0</td>\n",
       "    </tr>\n",
       "    <tr>\n",
       "      <th>2</th>\n",
       "      <td>3</td>\n",
       "      <td>moscow, yukon territory, russia</td>\n",
       "      <td>NaN</td>\n",
       "    </tr>\n",
       "    <tr>\n",
       "      <th>3</th>\n",
       "      <td>4</td>\n",
       "      <td>porto, v.n.gaia, portugal</td>\n",
       "      <td>17.0</td>\n",
       "    </tr>\n",
       "    <tr>\n",
       "      <th>4</th>\n",
       "      <td>5</td>\n",
       "      <td>farnborough, hants, united kingdom</td>\n",
       "      <td>NaN</td>\n",
       "    </tr>\n",
       "  </tbody>\n",
       "</table>\n",
       "</div>"
      ],
      "text/plain": [
       "   User-ID                            Location   Age\n",
       "0        1                  nyc, new york, usa   NaN\n",
       "1        2           stockton, california, usa  18.0\n",
       "2        3     moscow, yukon territory, russia   NaN\n",
       "3        4           porto, v.n.gaia, portugal  17.0\n",
       "4        5  farnborough, hants, united kingdom   NaN"
      ]
     },
     "execution_count": 12,
     "metadata": {},
     "output_type": "execute_result"
    }
   ],
   "source": [
    "print(\"Columns: \", list(users.columns))\n",
    "users.head()"
   ]
  },
  {
   "cell_type": "code",
   "execution_count": 13,
   "id": "07b7a1cc",
   "metadata": {
    "execution": {
     "iopub.execute_input": "2022-11-15T15:34:29.526645Z",
     "iopub.status.busy": "2022-11-15T15:34:29.526243Z",
     "iopub.status.idle": "2022-11-15T15:34:29.550535Z",
     "shell.execute_reply": "2022-11-15T15:34:29.549050Z"
    },
    "papermill": {
     "duration": 0.0438,
     "end_time": "2022-11-15T15:34:29.553048",
     "exception": false,
     "start_time": "2022-11-15T15:34:29.509248",
     "status": "completed"
    },
    "tags": []
   },
   "outputs": [
    {
     "name": "stdout",
     "output_type": "stream",
     "text": [
      "User-ID          0\n",
      "Location         0\n",
      "Age         110762\n",
      "dtype: int64\n"
     ]
    }
   ],
   "source": [
    "# checking the null values\n",
    "print(users.isna().sum())               "
   ]
  },
  {
   "cell_type": "code",
   "execution_count": 14,
   "id": "d5b58aec",
   "metadata": {
    "execution": {
     "iopub.execute_input": "2022-11-15T15:34:29.587125Z",
     "iopub.status.busy": "2022-11-15T15:34:29.586394Z",
     "iopub.status.idle": "2022-11-15T15:34:29.598561Z",
     "shell.execute_reply": "2022-11-15T15:34:29.596918Z"
    },
    "papermill": {
     "duration": 0.032326,
     "end_time": "2022-11-15T15:34:29.601169",
     "exception": false,
     "start_time": "2022-11-15T15:34:29.568843",
     "status": "completed"
    },
    "tags": []
   },
   "outputs": [
    {
     "name": "stdout",
     "output_type": "stream",
     "text": [
      "[nan, 0.0, 1.0, 2.0, 3.0, 4.0, 5.0, 6.0, 7.0, 8.0, 9.0, 10.0, 11.0, 12.0, 13.0, 14.0, 15.0, 16.0, 17.0, 18.0, 19.0, 20.0, 21.0, 22.0, 23.0, 24.0, 25.0, 26.0, 27.0, 28.0, 29.0, 30.0, 31.0, 32.0, 33.0, 34.0, 35.0, 36.0, 37.0, 38.0, 39.0, 40.0, 41.0, 42.0, 43.0, 44.0, 45.0, 46.0, 47.0, 48.0, 49.0, 50.0, 51.0, 52.0, 53.0, 54.0, 55.0, 56.0, 57.0, 58.0, 59.0, 60.0, 61.0, 62.0, 63.0, 64.0, 65.0, 66.0, 67.0, 68.0, 69.0, 70.0, 71.0, 72.0, 73.0, 74.0, 75.0, 76.0, 77.0, 78.0, 79.0, 80.0, 81.0, 82.0, 83.0, 84.0, 85.0, 86.0, 87.0, 88.0, 89.0, 90.0, 91.0, 92.0, 93.0, 94.0, 95.0, 96.0, 97.0, 98.0, 99.0, 100.0, 101.0, 102.0, 103.0, 104.0, 105.0, 106.0, 107.0, 108.0, 109.0, 110.0, 111.0, 113.0, 114.0, 115.0, 116.0, 118.0, 119.0, 123.0, 124.0, 127.0, 128.0, 132.0, 133.0, 136.0, 137.0, 138.0, 140.0, 141.0, 143.0, 146.0, 147.0, 148.0, 151.0, 152.0, 156.0, 157.0, 159.0, 162.0, 168.0, 172.0, 175.0, 183.0, 186.0, 189.0, 199.0, 200.0, 201.0, 204.0, 207.0, 208.0, 209.0, 210.0, 212.0, 219.0, 220.0, 223.0, 226.0, 228.0, 229.0, 230.0, 231.0, 237.0, 239.0, 244.0]\n"
     ]
    }
   ],
   "source": [
    "# the values present in Age column\n",
    "print(sorted(list(users['Age'].unique())))"
   ]
  },
  {
   "cell_type": "code",
   "execution_count": 15,
   "id": "f0bb53db",
   "metadata": {
    "execution": {
     "iopub.execute_input": "2022-11-15T15:34:29.634483Z",
     "iopub.status.busy": "2022-11-15T15:34:29.633675Z",
     "iopub.status.idle": "2022-11-15T15:34:29.663384Z",
     "shell.execute_reply": "2022-11-15T15:34:29.662231Z"
    },
    "papermill": {
     "duration": 0.049381,
     "end_time": "2022-11-15T15:34:29.665908",
     "exception": false,
     "start_time": "2022-11-15T15:34:29.616527",
     "status": "completed"
    },
    "tags": []
   },
   "outputs": [
    {
     "data": {
      "text/plain": [
       "35"
      ]
     },
     "execution_count": 15,
     "metadata": {},
     "output_type": "execute_result"
    }
   ],
   "source": [
    "# we will be replacing outliers and null values with the mean\n",
    "required = users[users['Age'] <= 80]\n",
    "required = required[required['Age'] >= 10]\n",
    "mean = round(required['Age'].mean())   \n",
    "mean"
   ]
  },
  {
   "cell_type": "code",
   "execution_count": 16,
   "id": "d886b5b6",
   "metadata": {
    "execution": {
     "iopub.execute_input": "2022-11-15T15:34:29.699944Z",
     "iopub.status.busy": "2022-11-15T15:34:29.699170Z",
     "iopub.status.idle": "2022-11-15T15:34:29.714483Z",
     "shell.execute_reply": "2022-11-15T15:34:29.713501Z"
    },
    "papermill": {
     "duration": 0.035236,
     "end_time": "2022-11-15T15:34:29.717061",
     "exception": false,
     "start_time": "2022-11-15T15:34:29.681825",
     "status": "completed"
    },
    "tags": []
   },
   "outputs": [],
   "source": [
    "users.loc[users['Age'] > 80, 'Age'] = mean    # the outliers with age greater than 80 are replaced with mean \n",
    "users.loc[users['Age'] < 10, 'Age'] = mean    # the outliers with age less than 10 years are replaced with mean\n",
    "users['Age'] = users['Age'].fillna(mean)      # we will be filling null values with mean\n",
    "users['Age'] = users['Age'].astype(int)"
   ]
  },
  {
   "cell_type": "code",
   "execution_count": 17,
   "id": "5bb8c517",
   "metadata": {
    "execution": {
     "iopub.execute_input": "2022-11-15T15:34:29.751177Z",
     "iopub.status.busy": "2022-11-15T15:34:29.750328Z",
     "iopub.status.idle": "2022-11-15T15:34:29.764047Z",
     "shell.execute_reply": "2022-11-15T15:34:29.762355Z"
    },
    "papermill": {
     "duration": 0.033176,
     "end_time": "2022-11-15T15:34:29.766522",
     "exception": false,
     "start_time": "2022-11-15T15:34:29.733346",
     "status": "completed"
    },
    "tags": []
   },
   "outputs": [
    {
     "name": "stdout",
     "output_type": "stream",
     "text": [
      "Columns:  ['User-ID', 'ISBN', 'Book-Rating']\n"
     ]
    },
    {
     "data": {
      "text/html": [
       "<div>\n",
       "<style scoped>\n",
       "    .dataframe tbody tr th:only-of-type {\n",
       "        vertical-align: middle;\n",
       "    }\n",
       "\n",
       "    .dataframe tbody tr th {\n",
       "        vertical-align: top;\n",
       "    }\n",
       "\n",
       "    .dataframe thead th {\n",
       "        text-align: right;\n",
       "    }\n",
       "</style>\n",
       "<table border=\"1\" class=\"dataframe\">\n",
       "  <thead>\n",
       "    <tr style=\"text-align: right;\">\n",
       "      <th></th>\n",
       "      <th>User-ID</th>\n",
       "      <th>ISBN</th>\n",
       "      <th>Book-Rating</th>\n",
       "    </tr>\n",
       "  </thead>\n",
       "  <tbody>\n",
       "    <tr>\n",
       "      <th>0</th>\n",
       "      <td>276725</td>\n",
       "      <td>034545104X</td>\n",
       "      <td>0</td>\n",
       "    </tr>\n",
       "    <tr>\n",
       "      <th>1</th>\n",
       "      <td>276726</td>\n",
       "      <td>0155061224</td>\n",
       "      <td>5</td>\n",
       "    </tr>\n",
       "    <tr>\n",
       "      <th>2</th>\n",
       "      <td>276727</td>\n",
       "      <td>0446520802</td>\n",
       "      <td>0</td>\n",
       "    </tr>\n",
       "    <tr>\n",
       "      <th>3</th>\n",
       "      <td>276729</td>\n",
       "      <td>052165615X</td>\n",
       "      <td>3</td>\n",
       "    </tr>\n",
       "    <tr>\n",
       "      <th>4</th>\n",
       "      <td>276729</td>\n",
       "      <td>0521795028</td>\n",
       "      <td>6</td>\n",
       "    </tr>\n",
       "  </tbody>\n",
       "</table>\n",
       "</div>"
      ],
      "text/plain": [
       "   User-ID        ISBN  Book-Rating\n",
       "0   276725  034545104X            0\n",
       "1   276726  0155061224            5\n",
       "2   276727  0446520802            0\n",
       "3   276729  052165615X            3\n",
       "4   276729  0521795028            6"
      ]
     },
     "execution_count": 17,
     "metadata": {},
     "output_type": "execute_result"
    }
   ],
   "source": [
    "# ratings columns\n",
    "print(\"Columns: \", list(ratings.columns))\n",
    "ratings.head()"
   ]
  },
  {
   "cell_type": "code",
   "execution_count": 18,
   "id": "adadd20f",
   "metadata": {
    "execution": {
     "iopub.execute_input": "2022-11-15T15:34:29.800280Z",
     "iopub.status.busy": "2022-11-15T15:34:29.799574Z",
     "iopub.status.idle": "2022-11-15T15:34:29.876555Z",
     "shell.execute_reply": "2022-11-15T15:34:29.875441Z"
    },
    "papermill": {
     "duration": 0.097045,
     "end_time": "2022-11-15T15:34:29.879274",
     "exception": false,
     "start_time": "2022-11-15T15:34:29.782229",
     "status": "completed"
    },
    "tags": []
   },
   "outputs": [
    {
     "data": {
      "text/plain": [
       "User-ID        0\n",
       "ISBN           0\n",
       "Book-Rating    0\n",
       "dtype: int64"
      ]
     },
     "execution_count": 18,
     "metadata": {},
     "output_type": "execute_result"
    }
   ],
   "source": [
    "# checking for null values\n",
    "ratings.isnull().sum() "
   ]
  },
  {
   "cell_type": "code",
   "execution_count": 19,
   "id": "33d28e92",
   "metadata": {
    "execution": {
     "iopub.execute_input": "2022-11-15T15:34:29.912693Z",
     "iopub.status.busy": "2022-11-15T15:34:29.912271Z",
     "iopub.status.idle": "2022-11-15T15:34:31.418870Z",
     "shell.execute_reply": "2022-11-15T15:34:31.416960Z"
    },
    "papermill": {
     "duration": 1.52653,
     "end_time": "2022-11-15T15:34:31.421826",
     "exception": false,
     "start_time": "2022-11-15T15:34:29.895296",
     "status": "completed"
    },
    "tags": []
   },
   "outputs": [
    {
     "name": "stdout",
     "output_type": "stream",
     "text": [
      "False\n"
     ]
    }
   ],
   "source": [
    "# checking ISBN\n",
    "flag = 0\n",
    "k =[]\n",
    "reg = \"[^A-Za-z0-9]\"\n",
    "\n",
    "for x in ratings['ISBN']:\n",
    "    z = re.search(reg,x)    \n",
    "    if z:\n",
    "        flag = 1\n",
    "\n",
    "if flag == 1:\n",
    "    print(\"False\")\n",
    "else:\n",
    "    print(\"True\")"
   ]
  },
  {
   "cell_type": "code",
   "execution_count": 20,
   "id": "dd4682f2",
   "metadata": {
    "execution": {
     "iopub.execute_input": "2022-11-15T15:34:31.457005Z",
     "iopub.status.busy": "2022-11-15T15:34:31.456057Z",
     "iopub.status.idle": "2022-11-15T15:34:32.029252Z",
     "shell.execute_reply": "2022-11-15T15:34:32.027856Z"
    },
    "papermill": {
     "duration": 0.593795,
     "end_time": "2022-11-15T15:34:32.032308",
     "exception": false,
     "start_time": "2022-11-15T15:34:31.438513",
     "status": "completed"
    },
    "tags": []
   },
   "outputs": [],
   "source": [
    "# uppercasing all the lowercase alphabets in the ISBN\n",
    "ratings['ISBN'] = ratings['ISBN'].str.upper()"
   ]
  },
  {
   "cell_type": "code",
   "execution_count": 21,
   "id": "811d9da2",
   "metadata": {
    "execution": {
     "iopub.execute_input": "2022-11-15T15:34:32.065995Z",
     "iopub.status.busy": "2022-11-15T15:34:32.064859Z",
     "iopub.status.idle": "2022-11-15T15:34:32.500016Z",
     "shell.execute_reply": "2022-11-15T15:34:32.499000Z"
    },
    "papermill": {
     "duration": 0.454522,
     "end_time": "2022-11-15T15:34:32.502725",
     "exception": false,
     "start_time": "2022-11-15T15:34:32.048203",
     "status": "completed"
    },
    "tags": []
   },
   "outputs": [],
   "source": [
    "# dropping duplicate rows\n",
    "ratings.drop_duplicates(keep='last', inplace=True)\n",
    "ratings.reset_index(drop=True, inplace=True)"
   ]
  },
  {
   "cell_type": "code",
   "execution_count": 22,
   "id": "e683c20e",
   "metadata": {
    "execution": {
     "iopub.execute_input": "2022-11-15T15:34:32.535525Z",
     "iopub.status.busy": "2022-11-15T15:34:32.535126Z",
     "iopub.status.idle": "2022-11-15T15:34:32.601997Z",
     "shell.execute_reply": "2022-11-15T15:34:32.600544Z"
    },
    "papermill": {
     "duration": 0.085953,
     "end_time": "2022-11-15T15:34:32.604388",
     "exception": false,
     "start_time": "2022-11-15T15:34:32.518435",
     "status": "completed"
    },
    "tags": []
   },
   "outputs": [
    {
     "name": "stdout",
     "output_type": "stream",
     "text": [
      "<class 'pandas.core.frame.DataFrame'>\n",
      "RangeIndex: 1149780 entries, 0 to 1149779\n",
      "Data columns (total 3 columns):\n",
      " #   Column       Non-Null Count    Dtype \n",
      "---  ------       --------------    ----- \n",
      " 0   User-ID      1149780 non-null  int64 \n",
      " 1   ISBN         1149780 non-null  object\n",
      " 2   Book-Rating  1149780 non-null  int64 \n",
      "dtypes: int64(2), object(1)\n",
      "memory usage: 26.3+ MB\n"
     ]
    }
   ],
   "source": [
    "ratings.info()"
   ]
  },
  {
   "cell_type": "markdown",
   "id": "7e03c922",
   "metadata": {
    "papermill": {
     "duration": 0.015671,
     "end_time": "2022-11-15T15:34:32.636020",
     "exception": false,
     "start_time": "2022-11-15T15:34:32.620349",
     "status": "completed"
    },
    "tags": []
   },
   "source": [
    "# **MERGING THE TABLES**"
   ]
  },
  {
   "cell_type": "code",
   "execution_count": 23,
   "id": "64a6160d",
   "metadata": {
    "execution": {
     "iopub.execute_input": "2022-11-15T15:34:32.669986Z",
     "iopub.status.busy": "2022-11-15T15:34:32.669326Z",
     "iopub.status.idle": "2022-11-15T15:34:34.432427Z",
     "shell.execute_reply": "2022-11-15T15:34:34.430697Z"
    },
    "papermill": {
     "duration": 1.783009,
     "end_time": "2022-11-15T15:34:34.435122",
     "exception": false,
     "start_time": "2022-11-15T15:34:32.652113",
     "status": "completed"
    },
    "tags": []
   },
   "outputs": [
    {
     "name": "stdout",
     "output_type": "stream",
     "text": [
      "<class 'pandas.core.frame.DataFrame'>\n",
      "Int64Index: 1035693 entries, 0 to 1035692\n",
      "Data columns (total 9 columns):\n",
      " #   Column               Non-Null Count    Dtype \n",
      "---  ------               --------------    ----- \n",
      " 0   ISBN                 1035693 non-null  object\n",
      " 1   Book-Title           1035693 non-null  object\n",
      " 2   Book-Author          1035693 non-null  object\n",
      " 3   Year-Of-Publication  1035693 non-null  object\n",
      " 4   Publisher            1035693 non-null  object\n",
      " 5   User-ID              1035693 non-null  int64 \n",
      " 6   Book-Rating          1035693 non-null  int64 \n",
      " 7   Location             1035693 non-null  object\n",
      " 8   Age                  1035693 non-null  int64 \n",
      "dtypes: int64(3), object(6)\n",
      "memory usage: 79.0+ MB\n"
     ]
    }
   ],
   "source": [
    "dataset = pd.merge(books, ratings, on='ISBN', how='inner')\n",
    "dataset = pd.merge(dataset, users, on='User-ID', how='inner')\n",
    "dataset.info()"
   ]
  },
  {
   "cell_type": "code",
   "execution_count": 24,
   "id": "0a0a3f35",
   "metadata": {
    "execution": {
     "iopub.execute_input": "2022-11-15T15:34:34.469536Z",
     "iopub.status.busy": "2022-11-15T15:34:34.468309Z",
     "iopub.status.idle": "2022-11-15T15:34:34.972492Z",
     "shell.execute_reply": "2022-11-15T15:34:34.971405Z"
    },
    "papermill": {
     "duration": 0.524037,
     "end_time": "2022-11-15T15:34:34.975148",
     "exception": false,
     "start_time": "2022-11-15T15:34:34.451111",
     "status": "completed"
    },
    "tags": []
   },
   "outputs": [
    {
     "data": {
      "text/plain": [
       "(385560, 9)"
      ]
     },
     "execution_count": 24,
     "metadata": {},
     "output_type": "execute_result"
    }
   ],
   "source": [
    "# explicit ratings dataset\n",
    "dataset1 = dataset[dataset['Book-Rating'] != 0]\n",
    "dataset1 = dataset1.reset_index(drop = True)\n",
    "dataset1.shape"
   ]
  },
  {
   "cell_type": "code",
   "execution_count": 25,
   "id": "e8b76359",
   "metadata": {
    "execution": {
     "iopub.execute_input": "2022-11-15T15:34:35.009384Z",
     "iopub.status.busy": "2022-11-15T15:34:35.008994Z",
     "iopub.status.idle": "2022-11-15T15:34:35.240028Z",
     "shell.execute_reply": "2022-11-15T15:34:35.239156Z"
    },
    "papermill": {
     "duration": 0.25129,
     "end_time": "2022-11-15T15:34:35.242434",
     "exception": false,
     "start_time": "2022-11-15T15:34:34.991144",
     "status": "completed"
    },
    "tags": []
   },
   "outputs": [
    {
     "data": {
      "text/plain": [
       "(650133, 9)"
      ]
     },
     "execution_count": 25,
     "metadata": {},
     "output_type": "execute_result"
    }
   ],
   "source": [
    "# implicit ratings dataset\n",
    "dataset2 = dataset[dataset['Book-Rating'] == 0]\n",
    "dataset2 = dataset2.reset_index(drop = True)\n",
    "dataset2.shape"
   ]
  },
  {
   "cell_type": "markdown",
   "id": "bc7fc0f7",
   "metadata": {
    "papermill": {
     "duration": 0.015646,
     "end_time": "2022-11-15T15:34:35.274175",
     "exception": false,
     "start_time": "2022-11-15T15:34:35.258529",
     "status": "completed"
    },
    "tags": []
   },
   "source": [
    "# **VISUALIZING THE DATA**"
   ]
  },
  {
   "cell_type": "code",
   "execution_count": 26,
   "id": "ffaf2684",
   "metadata": {
    "execution": {
     "iopub.execute_input": "2022-11-15T15:34:35.310389Z",
     "iopub.status.busy": "2022-11-15T15:34:35.309340Z",
     "iopub.status.idle": "2022-11-15T15:34:36.204249Z",
     "shell.execute_reply": "2022-11-15T15:34:36.202939Z"
    },
    "papermill": {
     "duration": 0.915458,
     "end_time": "2022-11-15T15:34:36.207148",
     "exception": false,
     "start_time": "2022-11-15T15:34:35.291690",
     "status": "completed"
    },
    "tags": []
   },
   "outputs": [
    {
     "data": {
      "text/plain": [
       "Text(0.5, 1.0, 'Number of books')"
      ]
     },
     "execution_count": 26,
     "metadata": {},
     "output_type": "execute_result"
    },
    {
     "data": {
      "image/png": "[encoded data removed]",
      "text/plain": [
       "<Figure size 1080x432 with 1 Axes>"
      ]
     },
     "metadata": {
      "needs_background": "light"
     },
     "output_type": "display_data"
    }
   ],
   "source": [
    "plt.figure(figsize=(15,6))\n",
    "sns.countplot(y=\"Book-Author\", data=books,order=books['Book-Author'].value_counts().index[0:15])\n",
    "plt.title(\"Number of books\")"
   ]
  },
  {
   "cell_type": "code",
   "execution_count": 27,
   "id": "521a3c05",
   "metadata": {
    "execution": {
     "iopub.execute_input": "2022-11-15T15:34:36.245227Z",
     "iopub.status.busy": "2022-11-15T15:34:36.244375Z",
     "iopub.status.idle": "2022-11-15T15:34:36.634547Z",
     "shell.execute_reply": "2022-11-15T15:34:36.633502Z"
    },
    "papermill": {
     "duration": 0.412685,
     "end_time": "2022-11-15T15:34:36.636910",
     "exception": false,
     "start_time": "2022-11-15T15:34:36.224225",
     "status": "completed"
    },
    "tags": []
   },
   "outputs": [
    {
     "data": {
      "text/plain": [
       "Text(0.5, 1.0, 'Graph of Explicit Ratings')"
      ]
     },
     "execution_count": 27,
     "metadata": {},
     "output_type": "execute_result"
    },
    {
     "data": {
      "image/png": "[encoded data removed]",
      "text/plain": [
       "<Figure size 576x432 with 1 Axes>"
      ]
     },
     "metadata": {
      "needs_background": "light"
     },
     "output_type": "display_data"
    }
   ],
   "source": [
    "# explicit ratings for the books\n",
    "plt.figure(figsize=(8,6))\n",
    "data = ratings[ratings['Book-Rating'] != 0]\n",
    "sns.countplot(x=\"Book-Rating\", data=data)\n",
    "plt.title(\"Graph of Explicit Ratings\")"
   ]
  },
  {
   "cell_type": "code",
   "execution_count": 28,
   "id": "8a6f3618",
   "metadata": {
    "execution": {
     "iopub.execute_input": "2022-11-15T15:34:36.674251Z",
     "iopub.status.busy": "2022-11-15T15:34:36.673444Z",
     "iopub.status.idle": "2022-11-15T15:34:36.944421Z",
     "shell.execute_reply": "2022-11-15T15:34:36.943205Z"
    },
    "papermill": {
     "duration": 0.293094,
     "end_time": "2022-11-15T15:34:36.947377",
     "exception": false,
     "start_time": "2022-11-15T15:34:36.654283",
     "status": "completed"
    },
    "tags": []
   },
   "outputs": [
    {
     "data": {
      "image/png": "[encoded data removed]",
      "text/plain": [
       "<Figure size 576x432 with 1 Axes>"
      ]
     },
     "metadata": {
      "needs_background": "light"
     },
     "output_type": "display_data"
    }
   ],
   "source": [
    "plt.figure(figsize=(8,6))\n",
    "users.Age.hist(bins=[10*i for i in range(1, 10)])     \n",
    "plt.title('Age Distribution')\n",
    "plt.xlabel('Age')\n",
    "plt.ylabel('Count')\n",
    "plt.show()"
   ]
  },
  {
   "cell_type": "markdown",
   "id": "19be221f",
   "metadata": {
    "papermill": {
     "duration": 0.01695,
     "end_time": "2022-11-15T15:34:36.982159",
     "exception": false,
     "start_time": "2022-11-15T15:34:36.965209",
     "status": "completed"
    },
    "tags": []
   },
   "source": [
    "# **IMPLEMENTING THE RECOMMENDATION SYSTEMS**"
   ]
  },
  {
   "cell_type": "code",
   "execution_count": 2,
   "id": "3f0e5fea",
   "metadata": {
    "execution": {
     "iopub.execute_input": "2022-11-15T15:34:37.019212Z",
     "iopub.status.busy": "2022-11-15T15:34:37.018219Z",
     "iopub.status.idle": "2022-11-15T15:34:37.138716Z",
     "shell.execute_reply": "2022-11-15T15:34:37.137227Z"
    },
    "papermill": {
     "duration": 0.141551,
     "end_time": "2022-11-15T15:34:37.141063",
     "exception": true,
     "start_time": "2022-11-15T15:34:36.999512",
     "status": "failed"
    },
    "tags": []
   },
   "outputs": [],
   "source": [
    "bookName = input(\"NAME OF THE BOOK : \")\n",
    "number = int(input(\"NUMBER OF RECOMMENDATIONS DESIRED : \"))"
   ]
  },
  {
   "cell_type": "markdown",
   "id": "aa19eadf",
   "metadata": {
    "papermill": {
     "duration": null,
     "end_time": null,
     "exception": null,
     "start_time": null,
     "status": "pending"
    },
    "tags": []
   },
   "source": [
    "# 1. POPULARITY BASED RECOMMENDATION SYSTEM"
   ]
  },
  {
   "cell_type": "markdown",
   "id": "2b9be501",
   "metadata": {
    "papermill": {
     "duration": null,
     "end_time": null,
     "exception": null,
     "start_time": null,
     "status": "pending"
    },
    "tags": []
   },
   "source": [
    "For this, we will be listing the top 50 most popular books."
   ]
  },
  {
   "cell_type": "code",
   "execution_count": null,
   "id": "b8643e54",
   "metadata": {
    "execution": {
     "iopub.execute_input": "2022-11-15T15:17:13.000854Z",
     "iopub.status.busy": "2022-11-15T15:17:13.000357Z",
     "iopub.status.idle": "2022-11-15T15:17:13.959778Z",
     "shell.execute_reply": "2022-11-15T15:17:13.958869Z",
     "shell.execute_reply.started": "2022-11-15T15:17:13.000813Z"
    },
    "papermill": {
     "duration": null,
     "end_time": null,
     "exception": null,
     "start_time": null,
     "status": "pending"
    },
    "tags": []
   },
   "outputs": [],
   "source": [
    "ratings_book_name = ratings.merge(books, on='ISBN')\n",
    "ratings_book_name.head(1)"
   ]
  },
  {
   "cell_type": "code",
   "execution_count": null,
   "id": "b72182d9",
   "metadata": {
    "execution": {
     "iopub.execute_input": "2022-11-15T15:17:13.962143Z",
     "iopub.status.busy": "2022-11-15T15:17:13.961085Z",
     "iopub.status.idle": "2022-11-15T15:17:15.379158Z",
     "shell.execute_reply": "2022-11-15T15:17:15.377717Z",
     "shell.execute_reply.started": "2022-11-15T15:17:13.962106Z"
    },
    "papermill": {
     "duration": null,
     "end_time": null,
     "exception": null,
     "start_time": null,
     "status": "pending"
    },
    "tags": []
   },
   "outputs": [],
   "source": [
    "number_ratings = ratings_book_name.groupby('Book-Title').count()['Book-Rating'].reset_index()\n",
    "number_ratings.rename(columns={'Book-Rating':'Number-of-Ratings'},inplace = True)\n",
    "number_ratings"
   ]
  },
  {
   "cell_type": "code",
   "execution_count": null,
   "id": "f0949b43",
   "metadata": {
    "execution": {
     "iopub.execute_input": "2022-11-15T15:17:15.381103Z",
     "iopub.status.busy": "2022-11-15T15:17:15.380651Z",
     "iopub.status.idle": "2022-11-15T15:17:16.311025Z",
     "shell.execute_reply": "2022-11-15T15:17:16.308967Z",
     "shell.execute_reply.started": "2022-11-15T15:17:15.381069Z"
    },
    "papermill": {
     "duration": null,
     "end_time": null,
     "exception": null,
     "start_time": null,
     "status": "pending"
    },
    "tags": []
   },
   "outputs": [],
   "source": [
    "average_ratings = ratings_book_name.groupby('Book-Title').mean()['Book-Rating'].reset_index()\n",
    "average_ratings.rename(columns={'Book-Rating':'Average-Rating'},inplace = True)\n",
    "average_ratings"
   ]
  },
  {
   "cell_type": "code",
   "execution_count": null,
   "id": "0ed62863",
   "metadata": {
    "execution": {
     "iopub.execute_input": "2022-11-15T15:17:16.313426Z",
     "iopub.status.busy": "2022-11-15T15:17:16.313030Z",
     "iopub.status.idle": "2022-11-15T15:17:16.568487Z",
     "shell.execute_reply": "2022-11-15T15:17:16.567063Z",
     "shell.execute_reply.started": "2022-11-15T15:17:16.313390Z"
    },
    "papermill": {
     "duration": null,
     "end_time": null,
     "exception": null,
     "start_time": null,
     "status": "pending"
    },
    "tags": []
   },
   "outputs": [],
   "source": [
    "pop_df = number_ratings.merge(average_ratings, on='Book-Title')\n",
    "pop_df"
   ]
  },
  {
   "cell_type": "code",
   "execution_count": null,
   "id": "c1a0db41",
   "metadata": {
    "execution": {
     "iopub.execute_input": "2022-11-15T15:17:16.572240Z",
     "iopub.status.busy": "2022-11-15T15:17:16.570537Z",
     "iopub.status.idle": "2022-11-15T15:17:16.736433Z",
     "shell.execute_reply": "2022-11-15T15:17:16.735291Z",
     "shell.execute_reply.started": "2022-11-15T15:17:16.572188Z"
    },
    "papermill": {
     "duration": null,
     "end_time": null,
     "exception": null,
     "start_time": null,
     "status": "pending"
    },
    "tags": []
   },
   "outputs": [],
   "source": [
    "pop_df = pop_df[pop_df['Number-of-Ratings']>=300].sort_values('Average-Rating', ascending = False)\n",
    "pop_df = pop_df.head(50)\n",
    "pop_df = pop_df.merge(books, on='Book-Title').drop_duplicates('Book-Title')[['Book-Title', 'Book-Author', 'Number-of-Ratings', 'Average-Rating']]\n",
    "pop_df"
   ]
  },
  {
   "cell_type": "markdown",
   "id": "287f0e88",
   "metadata": {
    "papermill": {
     "duration": null,
     "end_time": null,
     "exception": null,
     "start_time": null,
     "status": "pending"
    },
    "tags": []
   },
   "source": [
    "Those are the top 50 most popular books!"
   ]
  },
  {
   "cell_type": "markdown",
   "id": "0ed49147",
   "metadata": {
    "papermill": {
     "duration": null,
     "end_time": null,
     "exception": null,
     "start_time": null,
     "status": "pending"
    },
    "tags": []
   },
   "source": [
    "# 2. USER BASED COLLABORATIVE FILTERING"
   ]
  },
  {
   "cell_type": "code",
   "execution_count": null,
   "id": "a76caa83",
   "metadata": {
    "execution": {
     "iopub.execute_input": "2022-11-15T15:17:16.738217Z",
     "iopub.status.busy": "2022-11-15T15:17:16.737824Z",
     "iopub.status.idle": "2022-11-15T15:17:17.386736Z",
     "shell.execute_reply": "2022-11-15T15:17:17.385367Z",
     "shell.execute_reply.started": "2022-11-15T15:17:16.738176Z"
    },
    "papermill": {
     "duration": null,
     "end_time": null,
     "exception": null,
     "start_time": null,
     "status": "pending"
    },
    "tags": []
   },
   "outputs": [],
   "source": [
    "x = ratings_book_name.groupby('User-ID').count()['Book-Rating'] > 250 # avid readers \n",
    "avid_readers = x[x].index"
   ]
  },
  {
   "cell_type": "code",
   "execution_count": null,
   "id": "7e7b21df",
   "metadata": {
    "execution": {
     "iopub.execute_input": "2022-11-15T15:17:17.389303Z",
     "iopub.status.busy": "2022-11-15T15:17:17.388472Z",
     "iopub.status.idle": "2022-11-15T15:17:17.498963Z",
     "shell.execute_reply": "2022-11-15T15:17:17.497700Z",
     "shell.execute_reply.started": "2022-11-15T15:17:17.389252Z"
    },
    "papermill": {
     "duration": null,
     "end_time": null,
     "exception": null,
     "start_time": null,
     "status": "pending"
    },
    "tags": []
   },
   "outputs": [],
   "source": [
    "filtered = ratings_book_name[ratings_book_name['User-ID'].isin(avid_readers)]"
   ]
  },
  {
   "cell_type": "code",
   "execution_count": null,
   "id": "d1463931",
   "metadata": {
    "execution": {
     "iopub.execute_input": "2022-11-15T15:17:17.501109Z",
     "iopub.status.busy": "2022-11-15T15:17:17.500689Z",
     "iopub.status.idle": "2022-11-15T15:17:18.138688Z",
     "shell.execute_reply": "2022-11-15T15:17:18.137370Z",
     "shell.execute_reply.started": "2022-11-15T15:17:17.501072Z"
    },
    "papermill": {
     "duration": null,
     "end_time": null,
     "exception": null,
     "start_time": null,
     "status": "pending"
    },
    "tags": []
   },
   "outputs": [],
   "source": [
    "known = filtered.groupby('Book-Title').count()['Book-Rating'] >= 50\n",
    "popular = known[known].index\n",
    "final = filtered[filtered['Book-Title'].isin(popular)]"
   ]
  },
  {
   "cell_type": "code",
   "execution_count": null,
   "id": "3721e25a",
   "metadata": {
    "execution": {
     "iopub.execute_input": "2022-11-15T15:17:18.141052Z",
     "iopub.status.busy": "2022-11-15T15:17:18.140443Z",
     "iopub.status.idle": "2022-11-15T15:17:18.250276Z",
     "shell.execute_reply": "2022-11-15T15:17:18.249268Z",
     "shell.execute_reply.started": "2022-11-15T15:17:18.141017Z"
    },
    "papermill": {
     "duration": null,
     "end_time": null,
     "exception": null,
     "start_time": null,
     "status": "pending"
    },
    "tags": []
   },
   "outputs": [],
   "source": [
    "df = final.pivot_table(index = 'Book-Title', columns = 'User-ID', values = 'Book-Rating')\n",
    "df.fillna(0,inplace=True)\n",
    "df"
   ]
  },
  {
   "cell_type": "code",
   "execution_count": null,
   "id": "ba97e6e5",
   "metadata": {
    "execution": {
     "iopub.execute_input": "2022-11-15T15:17:18.251571Z",
     "iopub.status.busy": "2022-11-15T15:17:18.251244Z",
     "iopub.status.idle": "2022-11-15T15:17:18.275231Z",
     "shell.execute_reply": "2022-11-15T15:17:18.273312Z",
     "shell.execute_reply.started": "2022-11-15T15:17:18.251541Z"
    },
    "papermill": {
     "duration": null,
     "end_time": null,
     "exception": null,
     "start_time": null,
     "status": "pending"
    },
    "tags": []
   },
   "outputs": [],
   "source": [
    "similarity = cosine_similarity(df) # cosine similarity"
   ]
  },
  {
   "cell_type": "code",
   "execution_count": null,
   "id": "392bd1d8",
   "metadata": {
    "execution": {
     "iopub.execute_input": "2022-11-15T15:17:18.279040Z",
     "iopub.status.busy": "2022-11-15T15:17:18.277855Z",
     "iopub.status.idle": "2022-11-15T15:17:18.292532Z",
     "shell.execute_reply": "2022-11-15T15:17:18.289940Z",
     "shell.execute_reply.started": "2022-11-15T15:17:18.278968Z"
    },
    "papermill": {
     "duration": null,
     "end_time": null,
     "exception": null,
     "start_time": null,
     "status": "pending"
    },
    "tags": []
   },
   "outputs": [],
   "source": [
    "def recommend(book_name):\n",
    "    index = np.where(df.index == book_name)[0][0]\n",
    "    enum_list = list(enumerate(similarity[index]))\n",
    "    similar_items = sorted(enum_list, key=lambda x:x[1], reverse=True)[1:6]\n",
    "    for i in similar_items:\n",
    "        print(df.index[i[0]])\n",
    "    distance = similarity[index]\n",
    "#     return suggestion using cosine similarity\n",
    "recommend(bookName)"
   ]
  },
  {
   "cell_type": "markdown",
   "id": "5cb65a92",
   "metadata": {
    "papermill": {
     "duration": null,
     "end_time": null,
     "exception": null,
     "start_time": null,
     "status": "pending"
    },
    "tags": []
   },
   "source": [
    "# 3. ITEM BASED FILTERING SYSTEM"
   ]
  },
  {
   "cell_type": "code",
   "execution_count": null,
   "id": "17907cb0",
   "metadata": {
    "execution": {
     "iopub.execute_input": "2022-11-15T15:17:18.296082Z",
     "iopub.status.busy": "2022-11-15T15:17:18.295175Z",
     "iopub.status.idle": "2022-11-15T15:17:19.655863Z",
     "shell.execute_reply": "2022-11-15T15:17:19.654669Z",
     "shell.execute_reply.started": "2022-11-15T15:17:18.295995Z"
    },
    "papermill": {
     "duration": null,
     "end_time": null,
     "exception": null,
     "start_time": null,
     "status": "pending"
    },
    "tags": []
   },
   "outputs": [],
   "source": [
    "temp_df = books.merge(ratings, how='left', on='ISBN')\n",
    "final_df = temp_df.merge(users, how='left', on='User-ID')\n",
    "final_df.shape"
   ]
  },
  {
   "cell_type": "code",
   "execution_count": null,
   "id": "0a16fbca",
   "metadata": {
    "execution": {
     "iopub.execute_input": "2022-11-15T15:17:19.658070Z",
     "iopub.status.busy": "2022-11-15T15:17:19.657552Z",
     "iopub.status.idle": "2022-11-15T15:17:20.620428Z",
     "shell.execute_reply": "2022-11-15T15:17:20.619599Z",
     "shell.execute_reply.started": "2022-11-15T15:17:19.658025Z"
    },
    "papermill": {
     "duration": null,
     "end_time": null,
     "exception": null,
     "start_time": null,
     "status": "pending"
    },
    "tags": []
   },
   "outputs": [],
   "source": [
    "final_df.dropna(inplace=True)\n",
    "final_df['User-ID'] = final_df['User-ID'].astype('int')\n",
    "final_df=final_df[final_df[\"Book-Rating\"]>0]\n",
    "final_df.groupby('Book-Author')['ISBN'].agg('count').sort_values(ascending=False)"
   ]
  },
  {
   "cell_type": "code",
   "execution_count": null,
   "id": "c35746b2",
   "metadata": {
    "execution": {
     "iopub.execute_input": "2022-11-15T15:17:20.628210Z",
     "iopub.status.busy": "2022-11-15T15:17:20.627833Z",
     "iopub.status.idle": "2022-11-15T15:17:20.962184Z",
     "shell.execute_reply": "2022-11-15T15:17:20.960851Z",
     "shell.execute_reply.started": "2022-11-15T15:17:20.628179Z"
    },
    "papermill": {
     "duration": null,
     "end_time": null,
     "exception": null,
     "start_time": null,
     "status": "pending"
    },
    "tags": []
   },
   "outputs": [],
   "source": [
    "final_df.groupby('ISBN').agg({'Book-Title':'count'}).sort_values(by='Book-Title',ascending=False).head(100)"
   ]
  },
  {
   "cell_type": "code",
   "execution_count": null,
   "id": "bc264b98",
   "metadata": {
    "execution": {
     "iopub.execute_input": "2022-11-15T15:17:20.964083Z",
     "iopub.status.busy": "2022-11-15T15:17:20.963648Z",
     "iopub.status.idle": "2022-11-15T15:17:21.008759Z",
     "shell.execute_reply": "2022-11-15T15:17:21.007408Z",
     "shell.execute_reply.started": "2022-11-15T15:17:20.964052Z"
    },
    "papermill": {
     "duration": null,
     "end_time": null,
     "exception": null,
     "start_time": null,
     "status": "pending"
    },
    "tags": []
   },
   "outputs": [],
   "source": [
    "final_df.groupby('User-ID')['Book-Rating'].agg('count').sort_values(ascending=False)"
   ]
  },
  {
   "cell_type": "code",
   "execution_count": null,
   "id": "c60d2fd6",
   "metadata": {
    "execution": {
     "iopub.execute_input": "2022-11-15T15:17:21.010685Z",
     "iopub.status.busy": "2022-11-15T15:17:21.010351Z",
     "iopub.status.idle": "2022-11-15T15:17:21.348503Z",
     "shell.execute_reply": "2022-11-15T15:17:21.347072Z",
     "shell.execute_reply.started": "2022-11-15T15:17:21.010654Z"
    },
    "papermill": {
     "duration": null,
     "end_time": null,
     "exception": null,
     "start_time": null,
     "status": "pending"
    },
    "tags": []
   },
   "outputs": [],
   "source": [
    "rating_book = pd.DataFrame(final_df['Book-Title'].value_counts())\n",
    "final_df['Book-Title'].value_counts().mean() # 2.4688\n",
    "\n",
    "rare_books = rating_book[rating_book['Book-Title'] <= 50].index\n",
    "\n",
    "common_books = final_df[~final_df[\"Book-Title\"].isin(rare_books)]\n",
    "common_books['Book-Title'].value_counts().mean() "
   ]
  },
  {
   "cell_type": "code",
   "execution_count": null,
   "id": "3bfa02f2",
   "metadata": {
    "execution": {
     "iopub.execute_input": "2022-11-15T15:17:21.352715Z",
     "iopub.status.busy": "2022-11-15T15:17:21.352316Z",
     "iopub.status.idle": "2022-11-15T15:17:21.873106Z",
     "shell.execute_reply": "2022-11-15T15:17:21.872179Z",
     "shell.execute_reply.started": "2022-11-15T15:17:21.352680Z"
    },
    "papermill": {
     "duration": null,
     "end_time": null,
     "exception": null,
     "start_time": null,
     "status": "pending"
    },
    "tags": []
   },
   "outputs": [],
   "source": [
    "# creating the user-item matrix\n",
    "user_book_matrix = common_books.pivot_table(index=['User-ID'], columns=['Book-Title'], values='Book-Rating')\n",
    "user_book_matrix.shape"
   ]
  },
  {
   "cell_type": "code",
   "execution_count": null,
   "id": "062b5d98",
   "metadata": {
    "execution": {
     "iopub.execute_input": "2022-11-15T15:17:21.875340Z",
     "iopub.status.busy": "2022-11-15T15:17:21.874239Z",
     "iopub.status.idle": "2022-11-15T15:17:21.920326Z",
     "shell.execute_reply": "2022-11-15T15:17:21.919057Z",
     "shell.execute_reply.started": "2022-11-15T15:17:21.875290Z"
    },
    "papermill": {
     "duration": null,
     "end_time": null,
     "exception": null,
     "start_time": null,
     "status": "pending"
    },
    "tags": []
   },
   "outputs": [],
   "source": [
    "book_name = bookName\n",
    "def book_to_ISBN(name):\n",
    "    \"\"\"\n",
    "    This function gives us the ISBN number of the book for the name of the book which you want to learn ISBN number.\n",
    "    :param name: the name of the book\n",
    "    :return: ISBN; the books are identified by their respective ISBN\n",
    "    \"\"\"\n",
    "    ISBN = final_df[final_df['Book-Title'] == name][['ISBN']].iloc[0,0]\n",
    "    return ISBN\n",
    "\n",
    "ISBN_no = book_to_ISBN(book_name)\n",
    "\n",
    "book_df = user_book_matrix[book_name]\n",
    "book_df.sort_values(ascending=False)"
   ]
  },
  {
   "cell_type": "code",
   "execution_count": null,
   "id": "8d1f1f03",
   "metadata": {
    "execution": {
     "iopub.execute_input": "2022-11-15T15:17:21.923234Z",
     "iopub.status.busy": "2022-11-15T15:17:21.921973Z",
     "iopub.status.idle": "2022-11-15T15:17:22.181916Z",
     "shell.execute_reply": "2022-11-15T15:17:22.180698Z",
     "shell.execute_reply.started": "2022-11-15T15:17:21.923196Z"
    },
    "papermill": {
     "duration": null,
     "end_time": null,
     "exception": null,
     "start_time": null,
     "status": "pending"
    },
    "tags": []
   },
   "outputs": [],
   "source": [
    "similar_to_book_name = user_book_matrix.corrwith(book_df)\n",
    "\n",
    "corr_book_name = pd.DataFrame(similar_to_book_name, columns=['Correlation'])\n",
    "corr_book_name.dropna(inplace=True)\n",
    "corr_book_name.sort_values(by='Correlation',ascending=False).head(50)"
   ]
  },
  {
   "cell_type": "code",
   "execution_count": null,
   "id": "3df7bff8",
   "metadata": {
    "execution": {
     "iopub.execute_input": "2022-11-15T15:17:42.980799Z",
     "iopub.status.busy": "2022-11-15T15:17:42.980361Z",
     "iopub.status.idle": "2022-11-15T15:17:42.993216Z",
     "shell.execute_reply": "2022-11-15T15:17:42.991701Z",
     "shell.execute_reply.started": "2022-11-15T15:17:42.980768Z"
    },
    "papermill": {
     "duration": null,
     "end_time": null,
     "exception": null,
     "start_time": null,
     "status": "pending"
    },
    "tags": []
   },
   "outputs": [],
   "source": [
    "recommended_list = corr_book_name.reset_index().sort_values(by=('Correlation'),ascending=False)['Book-Title'].head(number+1).to_list()\n",
    "recommended_list"
   ]
  },
  {
   "cell_type": "markdown",
   "id": "24751ef4",
   "metadata": {
    "papermill": {
     "duration": null,
     "end_time": null,
     "exception": null,
     "start_time": null,
     "status": "pending"
    },
    "tags": []
   },
   "source": [
    "# 4. CONTENT BASED FILTERING SYSTEM"
   ]
  },
  {
   "cell_type": "code",
   "execution_count": null,
   "id": "85b8a13c",
   "metadata": {
    "execution": {
     "iopub.execute_input": "2022-11-15T15:17:22.198761Z",
     "iopub.status.busy": "2022-11-15T15:17:22.197710Z",
     "iopub.status.idle": "2022-11-15T15:17:22.910435Z",
     "shell.execute_reply": "2022-11-15T15:17:22.908907Z",
     "shell.execute_reply.started": "2022-11-15T15:17:22.198714Z"
    },
    "papermill": {
     "duration": null,
     "end_time": null,
     "exception": null,
     "start_time": null,
     "status": "pending"
    },
    "tags": []
   },
   "outputs": [],
   "source": [
    "df = pd.DataFrame(dataset1['Book-Title'].value_counts())\n",
    "df['Total-Ratings'] = df['Book-Title']\n",
    "df['Book-Title'] = df.index\n",
    "df.reset_index(level=0, inplace=True)\n",
    "df = df.drop('index',axis=1)\n",
    "\n",
    "df = dataset1.merge(df, left_on = 'Book-Title', right_on = 'Book-Title', how = 'left')\n",
    "df = df.drop(['Year-Of-Publication','Publisher','Age'], axis=1)"
   ]
  },
  {
   "cell_type": "code",
   "execution_count": null,
   "id": "3b4be7db",
   "metadata": {
    "execution": {
     "iopub.execute_input": "2022-11-15T15:17:22.912595Z",
     "iopub.status.busy": "2022-11-15T15:17:22.912088Z",
     "iopub.status.idle": "2022-11-15T15:17:22.935648Z",
     "shell.execute_reply": "2022-11-15T15:17:22.934203Z",
     "shell.execute_reply.started": "2022-11-15T15:17:22.912540Z"
    },
    "papermill": {
     "duration": null,
     "end_time": null,
     "exception": null,
     "start_time": null,
     "status": "pending"
    },
    "tags": []
   },
   "outputs": [],
   "source": [
    "popularity_threshold = 80\n",
    "popular_book = df[df['Total-Ratings'] >= popularity_threshold]\n",
    "popular_book = popular_book.reset_index(drop = True)\n",
    "popular_book.shape"
   ]
  },
  {
   "cell_type": "code",
   "execution_count": null,
   "id": "71293c2b",
   "metadata": {
    "execution": {
     "iopub.execute_input": "2022-11-15T15:17:22.937607Z",
     "iopub.status.busy": "2022-11-15T15:17:22.937234Z",
     "iopub.status.idle": "2022-11-15T15:17:23.459670Z",
     "shell.execute_reply": "2022-11-15T15:17:23.458178Z",
     "shell.execute_reply.started": "2022-11-15T15:17:22.937575Z"
    },
    "papermill": {
     "duration": null,
     "end_time": null,
     "exception": null,
     "start_time": null,
     "status": "pending"
    },
    "tags": []
   },
   "outputs": [],
   "source": [
    "tf = TfidfVectorizer(ngram_range=(1, 2), min_df = 1, stop_words='english')\n",
    "tfidf_matrix = tf.fit_transform(popular_book['Book-Title'])\n",
    "tfidf_matrix.shape"
   ]
  },
  {
   "cell_type": "code",
   "execution_count": null,
   "id": "c3f696b7",
   "metadata": {
    "execution": {
     "iopub.execute_input": "2022-11-15T15:17:23.462428Z",
     "iopub.status.busy": "2022-11-15T15:17:23.461963Z",
     "iopub.status.idle": "2022-11-15T15:17:40.118585Z",
     "shell.execute_reply": "2022-11-15T15:17:40.117306Z",
     "shell.execute_reply.started": "2022-11-15T15:17:23.462392Z"
    },
    "papermill": {
     "duration": null,
     "end_time": null,
     "exception": null,
     "start_time": null,
     "status": "pending"
    },
    "tags": []
   },
   "outputs": [],
   "source": [
    "normalized_df = tfidf_matrix.astype(np.float32)\n",
    "cosine_similarities = cosine_similarity(normalized_df, normalized_df)\n",
    "cosine_similarities.shape"
   ]
  },
  {
   "cell_type": "code",
   "execution_count": null,
   "id": "204ccfcf",
   "metadata": {
    "execution": {
     "iopub.execute_input": "2022-11-15T15:17:40.120263Z",
     "iopub.status.busy": "2022-11-15T15:17:40.119880Z",
     "iopub.status.idle": "2022-11-15T15:17:40.807433Z",
     "shell.execute_reply": "2022-11-15T15:17:40.806165Z",
     "shell.execute_reply.started": "2022-11-15T15:17:40.120229Z"
    },
    "papermill": {
     "duration": null,
     "end_time": null,
     "exception": null,
     "start_time": null,
     "status": "pending"
    },
    "tags": []
   },
   "outputs": [],
   "source": [
    "isbn = books.loc[books['Book-Title'] == bookName].reset_index(drop = True).iloc[0]['ISBN']\n",
    "content = []\n",
    "\n",
    "idx = popular_book.index[popular_book['ISBN'] == isbn].tolist()[0]\n",
    "similar_indices = cosine_similarities[idx].argsort()[::-1]\n",
    "similar_items = []\n",
    "for i in similar_indices:\n",
    "    if popular_book['Book-Title'][i] != bookName and popular_book['Book-Title'][i] not in similar_items and len(similar_items) < number:\n",
    "        similar_items.append(popular_book['Book-Title'][i])\n",
    "        content.append(popular_book['Book-Title'][i])\n",
    "\n",
    "for book in similar_items:\n",
    "    print(book)"
   ]
  }
 ],
 "metadata": {
  "kernelspec": {
   "display_name": "Python 3.6.8 64-bit",
   "language": "python",
   "name": "python3"
  },
  "language_info": {
   "codemirror_mode": {
    "name": "ipython",
    "version": 3
   },
   "file_extension": ".py",
   "mimetype": "text/x-python",
   "name": "python",
   "nbconvert_exporter": "python",
   "pygments_lexer": "ipython3",
   "version": "3.6.8"
  },
  "papermill": {
   "default_parameters": {},
   "duration": 24.196847,
   "end_time": "2022-11-15T15:34:38.185902",
   "environment_variables": {},
   "exception": true,
   "input_path": "__notebook__.ipynb",
   "output_path": "__notebook__.ipynb",
   "parameters": {},
   "start_time": "2022-11-15T15:34:13.989055",
   "version": "2.3.4"
  },
  "vscode": {
   "interpreter": {
    "hash": "9131ca65894c139f431c0ca10e72548aa26d8268a4f8f2b82d8d4773c131c3ff"
   }
  }
 },
 "nbformat": 4,
 "nbformat_minor": 5
}
